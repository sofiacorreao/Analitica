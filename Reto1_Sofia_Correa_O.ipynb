{
  "nbformat": 4,
  "nbformat_minor": 0,
  "metadata": {
    "colab": {
      "provenance": [],
      "authorship_tag": "ABX9TyMZffh79F9v8jcFCuRswpiM",
      "include_colab_link": true
    },
    "kernelspec": {
      "name": "python3",
      "display_name": "Python 3"
    },
    "language_info": {
      "name": "python"
    }
  },
  "cells": [
    {
      "cell_type": "markdown",
      "metadata": {
        "id": "view-in-github",
        "colab_type": "text"
      },
      "source": [
        "<a href=\"https://colab.research.google.com/github/sofiacorreao/Analitica/blob/main/Reto1_Sofia_Correa_O.ipynb\" target=\"_parent\"><img src=\"https://colab.research.google.com/assets/colab-badge.svg\" alt=\"Open In Colab\"/></a>"
      ]
    },
    {
      "cell_type": "code",
      "source": [
        "import numpy as np #Funciones matematicas\n",
        "import pandas as pd #Comunicación con Excel\n",
        "from sklearn.naive_bayes import GaussianNB #Funcion Gaussiana\n",
        "from sklearn.metrics import confusion_matrix #La metrica de medicion"
      ],
      "metadata": {
        "id": "pr9L4qAcVLKL"
      },
      "execution_count": null,
      "outputs": []
    },
    {
      "cell_type": "code",
      "execution_count": null,
      "metadata": {
        "colab": {
          "base_uri": "https://localhost:8080/"
        },
        "id": "nHmhCUKSUFBc",
        "outputId": "ac162a5d-fe2a-400e-e46a-d38c3c450f12"
      },
      "outputs": [
        {
          "output_type": "stream",
          "name": "stdout",
          "text": [
            "       Age  Mother_Edu  Father_Edu  Height  Weight   Income  Self_Esteem  \\\n",
            "1       20         5.0         8.0    62.0   120.0      0.0         16.0   \n",
            "5       19        12.0        12.0    64.0   200.0  40000.0         27.0   \n",
            "6       15        12.0        12.0    65.0   131.0  25000.0         26.0   \n",
            "7       21         9.0         6.0    65.0   179.0  27400.0         23.0   \n",
            "8       16        12.0        10.0    66.0   145.0  52000.0         26.0   \n",
            "...    ...         ...         ...     ...     ...      ...          ...   \n",
            "12557   20        12.0        12.0    60.0   110.0   1000.0         20.0   \n",
            "12565   20        12.0        11.0    63.0   152.0  38000.0         24.0   \n",
            "12647   21        16.0        12.0    70.0   180.0  43600.0         30.0   \n",
            "12651   21        16.0        16.0    73.0   170.0  40000.0         27.0   \n",
            "12678   21         8.0         8.0    70.0   180.0  17000.0         19.0   \n",
            "\n",
            "       FamilySize  Urban  \n",
            "1               5    1.0  \n",
            "5               4    1.0  \n",
            "6               3    1.0  \n",
            "7               3    1.0  \n",
            "8               6    1.0  \n",
            "...           ...    ...  \n",
            "12557           5    1.0  \n",
            "12565           2    1.0  \n",
            "12647           1    1.0  \n",
            "12651           1    1.0  \n",
            "12678           1    0.0  \n",
            "\n",
            "[5683 rows x 9 columns]\n"
          ]
        }
      ],
      "source": [
        "nxl=\"/content/1. BD1_Longitudinal Survey.xlsx\"\n",
        "XDB=pd.read_excel(nxl,sheet_name=0).dropna() #Traigo los datos\n",
        " #Eliminar datos faltantes, celdas vacias\n",
        "\n",
        "#Seleccionamos las variables de interes\n",
        "XDB=XDB[['Age','Mother_Edu','Father_Edu','Height','Weight','Income','Self_Esteem','FamilySize','Urban']]\n",
        "XDB\n",
        "\n",
        "#Datos de Entrada - np.array ()\n",
        "XD=XDB[['Age','Mother_Edu','Father_Edu','Height','Weight','Income','Self_Esteem','FamilySize']]\n",
        "#Datos de salida - Valor deseado\n",
        "yd=np.array(XDB['Urban'] )\n",
        "print (XDB)"
      ]
    },
    {
      "cell_type": "code",
      "source": [
        "mnb=GaussianNB() #Llamamos el modelo\n",
        "mnb.fit(XD,yd)\n",
        "ydp=mnb.predict(XD) #Muestra los datos de salida\n",
        "\n",
        "#Parametros del modelo por categoria\n",
        "u=mnb.theta_ #Se estiman las medias\n",
        "sigma=np.sqrt(mnb.var_) #Se estiman las varianzas\n",
        "\n",
        "#Las variaciones de las variables\n",
        "LI=u-sigma\n",
        "LS=u+sigma\n",
        "\n",
        "print('La media de las variables por categoria:')\n",
        "print (u)\n",
        "print('El limite inferior de la variación de las variables por categoria es:')\n",
        "print(LI)\n",
        "print('El limite superior de la variación de las variables por categoria es:')\n",
        "print (LS)\n",
        "\n",
        "#Métrica de evaluación\n",
        "cm=confusion_matrix(yd,ydp)"
      ],
      "metadata": {
        "colab": {
          "base_uri": "https://localhost:8080/"
        },
        "id": "iVBZE3JSX6LW",
        "outputId": "2f733a3c-6af3-4218-9226-b655c76ec1f0"
      },
      "execution_count": null,
      "outputs": [
        {
          "output_type": "stream",
          "name": "stdout",
          "text": [
            "La media de las variables por categoria:\n",
            "[[1.83810742e+01 1.07612958e+01 1.03324808e+01 6.72148338e+01\n",
            "  1.48857630e+02 3.03672506e+04 2.20272805e+01 4.74168798e+00]\n",
            " [1.83569845e+01 1.11769401e+01 1.12565410e+01 6.69031042e+01\n",
            "  1.44760976e+02 3.34278929e+04 2.26004435e+01 4.68780488e+00]]\n",
            "El limite inferior de la variación de las variables por categoria es:\n",
            "[[ 1.58996876e+01  7.58892579e+00  6.46311334e+00  6.31369799e+01\n",
            "   1.18746964e+02 -1.33465823e+03  1.78344685e+01  2.16621834e+00]\n",
            " [ 1.58811112e+01  7.79013864e+00  7.15097738e+00  6.26897933e+01\n",
            "   1.14669654e+02 -2.69533531e+03  1.84154526e+01  2.24996381e+00]]\n",
            "El limite superior de la variación de las variables por categoria es:\n",
            "[[2.08624608e+01 1.39336659e+01 1.42018483e+01 7.12926877e+01\n",
            "  1.78968296e+02 6.20691595e+04 2.62200925e+01 7.31715762e+00]\n",
            " [2.08328577e+01 1.45637416e+01 1.53621047e+01 7.11164151e+01\n",
            "  1.74852297e+02 6.95511211e+04 2.67854344e+01 7.12564594e+00]]\n"
          ]
        }
      ]
    },
    {
      "cell_type": "markdown",
      "source": [
        "**Determinar el intervalo en el cual se encuentra la variacion de la edad**\n",
        "\n",
        "R// El limite inferior en urbano es 1.58996876e+01\n",
        "\n",
        "El limite superior en urbano  es 2.08624608e+01\n",
        "\n",
        "El limite inferior en rural es  1.58811112e+01\n",
        "\n",
        "El limite superior en rural es 2.08328577e+01"
      ],
      "metadata": {
        "id": "fg_zLtyre29C"
      }
    },
    {
      "cell_type": "markdown",
      "source": [
        "**Determinar el intervalo en el cual se encuentra la altura**\n",
        "\n",
        "R// El limite inferior en urbano es 6.31369799e+01\n",
        "\n",
        "El limite superior en urbano  es 7.12926877e+01\n",
        "\n",
        "El limite inferior en rural es  6.26897933e+01\n",
        "\n",
        "El limite superior en rural es  7.11164151e+01"
      ],
      "metadata": {
        "id": "2gaPFifdgO4P"
      }
    },
    {
      "cell_type": "markdown",
      "source": [
        "**Determinar el intervalo en el cual se encuentra el peso**\n",
        "\n",
        "R// El limite inferior en urbano es 1.48857630e+02\n",
        "\n",
        "El limite superior en urbano  es 1.78968296e+02\n",
        "\n",
        "El limite inferior en rural es  1.14669654e+02\n",
        "\n",
        "El limite superior en rural es  1.74852297e+02"
      ],
      "metadata": {
        "id": "nDh-zIeihEhQ"
      }
    },
    {
      "cell_type": "code",
      "source": [
        "VN=cm[0,0] #Verdaderos negativos\n",
        "FP=cm[0,1] #Falsos positivos\n",
        "FN=cm[1,0] #Falsos negativos\n",
        "VP=cm[1,1] #Verdaderos positivos\n",
        "\n",
        "Exactitud=(VP+VN)/len(XD)\n",
        "print('La Exactitud es:',Exactitud) #Comportamiento general\n",
        "\n",
        "TE=(FN+FP)/len(XD)\n",
        "print('La Tasa de Error es:',TE) #Porcentaje de Equivocaciones\n",
        "\n",
        "Sensibilidad=VP/(VP+FP)\n",
        "print('La Sensibilidad es:',Sensibilidad) #Como se comporto frente a los positivos\n",
        "\n",
        "Especificidad=VN/(VN+FN)\n",
        "print('La Especificidad es:',Especificidad) #Como se comportaron frente a los negativos"
      ],
      "metadata": {
        "colab": {
          "base_uri": "https://localhost:8080/"
        },
        "id": "yvRDiz5uhvEZ",
        "outputId": "396f8964-6e9e-4a57-8739-bfb69d9df668"
      },
      "execution_count": null,
      "outputs": [
        {
          "output_type": "stream",
          "name": "stdout",
          "text": [
            "La Exactitud es: 0.7932430054548654\n",
            "La Tasa de Error es: 0.2067569945451346\n",
            "La Sensibilidad es: 0.793729082261758\n",
            "La Especificidad es: 0.3333333333333333\n"
          ]
        }
      ]
    },
    {
      "cell_type": "markdown",
      "source": [
        "¿Para una persona con las siguientes características (34,9,6,65,135,50000,30,3)  indicar si vive en la ciudad o las áreas rurales"
      ],
      "metadata": {
        "id": "fUIF6Dw4udVA"
      }
    },
    {
      "cell_type": "code",
      "source": [
        "Xun=np.array([[34,9,6,65,135,50000,30,3]])\n",
        "ydun=mnb.predict(Xun)\n",
        "print(f'Para una persona con las caracteristicas dadas el pronostico es: {ydun}, es decir, vive en la zona urbana')"
      ],
      "metadata": {
        "colab": {
          "base_uri": "https://localhost:8080/"
        },
        "id": "dt7VtbZ9ir1V",
        "outputId": "93b304b0-a92f-444b-89c0-681200e354b6"
      },
      "execution_count": null,
      "outputs": [
        {
          "output_type": "stream",
          "name": "stdout",
          "text": [
            "Para una persona con las caracteristicas dadas el pronostico es: [1.], es decir, vive en la zona urbana\n"
          ]
        },
        {
          "output_type": "stream",
          "name": "stderr",
          "text": [
            "/usr/local/lib/python3.10/dist-packages/sklearn/base.py:465: UserWarning: X does not have valid feature names, but GaussianNB was fitted with feature names\n",
            "  warnings.warn(\n"
          ]
        }
      ]
    },
    {
      "cell_type": "markdown",
      "source": [
        "Cual es el número de datos total de la base de datos?"
      ],
      "metadata": {
        "id": "-tvtb9QxZt4h"
      }
    },
    {
      "cell_type": "code",
      "source": [
        "total_datos = XDB.shape[0]\n",
        "print(f'El total de datos que hay en la base de datos es: {total_datos}')"
      ],
      "metadata": {
        "colab": {
          "base_uri": "https://localhost:8080/"
        },
        "id": "g7WO-blHZtiq",
        "outputId": "196db091-7d60-4fe2-ce8b-a7f542f909ca"
      },
      "execution_count": null,
      "outputs": [
        {
          "output_type": "stream",
          "name": "stdout",
          "text": [
            "El total de datos que hay en la base de datos es: 5683\n"
          ]
        }
      ]
    },
    {
      "cell_type": "code",
      "source": [
        "total_datos_urbanos = XDB[XDB['Urban'] == 1].shape[0]\n",
        "total_datos_urbanos"
      ],
      "metadata": {
        "colab": {
          "base_uri": "https://localhost:8080/"
        },
        "id": "LrIJJdUQl4lY",
        "outputId": "b5bbcb4c-177d-4dc0-d6e4-a943f034d671"
      },
      "execution_count": null,
      "outputs": [
        {
          "output_type": "execute_result",
          "data": {
            "text/plain": [
              "4510"
            ]
          },
          "metadata": {},
          "execution_count": 7
        }
      ]
    },
    {
      "cell_type": "markdown",
      "source": [
        "Qué proporcion del total de los datos corresponde al area rural?"
      ],
      "metadata": {
        "id": "dRObKWIopxzy"
      }
    },
    {
      "cell_type": "code",
      "source": [
        "total_datos_rural = XDB[XDB['Urban'] == 0].shape[0]\n",
        "total_datos_rural"
      ],
      "metadata": {
        "colab": {
          "base_uri": "https://localhost:8080/"
        },
        "id": "xoFBr3MPmDmJ",
        "outputId": "dcf7367b-496c-4104-cab7-68c3392f0fee"
      },
      "execution_count": null,
      "outputs": [
        {
          "output_type": "execute_result",
          "data": {
            "text/plain": [
              "1173"
            ]
          },
          "metadata": {},
          "execution_count": 8
        }
      ]
    },
    {
      "cell_type": "code",
      "source": [
        "tasa_rural = total_datos_rural / total_datos\n",
        "print(f'La tasa de personas que hacen parte del area rural es de: {tasa_rural}')"
      ],
      "metadata": {
        "colab": {
          "base_uri": "https://localhost:8080/"
        },
        "id": "4o2ZE0nymRbC",
        "outputId": "0c0f74fb-9118-4a14-b5a5-2f2ecd0865b6"
      },
      "execution_count": null,
      "outputs": [
        {
          "output_type": "stream",
          "name": "stdout",
          "text": [
            "La tasa de personas que hacen parte del area rural es de: 0.20640506774590886\n"
          ]
        }
      ]
    },
    {
      "cell_type": "markdown",
      "source": [
        "Que proporcion del total de los datos corresponde al area urbana?"
      ],
      "metadata": {
        "id": "XNyOITIVp3xK"
      }
    },
    {
      "cell_type": "code",
      "source": [
        "tasa_urbanos = total_datos_urbanos / total_datos\n",
        "print(f'La tasa de personas que hacen parte del area urbana es de: {tasa_urbanos}')"
      ],
      "metadata": {
        "colab": {
          "base_uri": "https://localhost:8080/"
        },
        "id": "STtrqOo1mLGY",
        "outputId": "af693c48-3e9a-4bee-cc2f-e96b2fa95ce5"
      },
      "execution_count": null,
      "outputs": [
        {
          "output_type": "stream",
          "name": "stdout",
          "text": [
            "La tasa de personas que hacen parte del area urbana es de: 0.7935949322540912\n"
          ]
        }
      ]
    },
    {
      "cell_type": "markdown",
      "source": [
        "**Análisis:**\n",
        "\n",
        "La Exactitud es 0.7932430054548654 lo que indica un rendimiento global razonablemente bueno, pero no excelente.\n",
        "\n",
        "La Tasa de Error es 0.2067569945451346, complementa la exactitud, mostrando el porcentaje de predicciones incorrectas.\n",
        "\n",
        "La Sensibilidad es 0.793729082261758, esto indica que el modelo tiene buen desempeño al identificar positivos, lo cual es bueno si los falsos negativos son críticos.\n",
        "\n",
        "La Especificidad es 0.3333333333333333, este bajo valor indica que el modelo no es muy efectivo para identificar los negativos, lo que puede ser problemático si los falsos positivos son costosos.\n",
        "\n",
        "En conclusión, el desempeño del modelo en general es bueno ya que tiene una alta exactitud y sensibilidad, sin embargo puede mejorar la especifidad para que la tasa de error disminuya y haya mas efectividad"
      ],
      "metadata": {
        "id": "aLhJFccAiX8z"
      }
    }
  ]
}