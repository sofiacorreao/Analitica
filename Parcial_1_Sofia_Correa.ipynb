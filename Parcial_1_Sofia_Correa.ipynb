{
  "nbformat": 4,
  "nbformat_minor": 0,
  "metadata": {
    "colab": {
      "provenance": [],
      "toc_visible": true,
      "include_colab_link": true
    },
    "kernelspec": {
      "name": "python3",
      "display_name": "Python 3"
    },
    "language_info": {
      "name": "python"
    }
  },
  "cells": [
    {
      "cell_type": "markdown",
      "metadata": {
        "id": "view-in-github",
        "colab_type": "text"
      },
      "source": [
        "<a href=\"https://colab.research.google.com/github/sofiacorreao/Analitica/blob/main/Parcial_1_Sofia_Correa.ipynb\" target=\"_parent\"><img src=\"https://colab.research.google.com/assets/colab-badge.svg\" alt=\"Open In Colab\"/></a>"
      ]
    },
    {
      "cell_type": "markdown",
      "source": [
        "####Importar librerias"
      ],
      "metadata": {
        "id": "wMTAascpHk14"
      }
    },
    {
      "cell_type": "code",
      "execution_count": null,
      "metadata": {
        "id": "-3WxpS0Kxn6t"
      },
      "outputs": [],
      "source": [
        "import numpy as np #Funciones matematicas\n",
        "import pandas as pd #Comunicación con Excel\n",
        "from sklearn.naive_bayes import GaussianNB #Funcion Gaussiana\n",
        "from sklearn.neighbors  import KNeighborsClassifier\n",
        "from sklearn.cluster import KMeans\n",
        "from sklearn.tree import DecisionTreeClassifier\n",
        "from sklearn.metrics import confusion_matrix #La metrica de medicion\n",
        "import matplotlib.pyplot as plt #Gráficador de cosas\n",
        "import seaborn as sns #Gráficador de cosas"
      ]
    },
    {
      "cell_type": "markdown",
      "source": [
        "#### Cargar la base de datos"
      ],
      "metadata": {
        "id": "v5UgiYktHtFy"
      }
    },
    {
      "cell_type": "code",
      "source": [
        "nxl='/content/4. BD_Parcial_L_int.xlsx'\n",
        "XDB=pd.read_excel(nxl,sheet_name=0)\n",
        "XDB=XDB.dropna() #Elimina celdas vacias o sin datos\n",
        "XDB['Sex'] = XDB['Sex'].replace({'M':0,'F':1}) # Convertir la variable sex como una variable categorica\n",
        "\n",
        "#Se procede con la seleccion de las variables de trabajo\n",
        "XD=np.array(XDB[['White', 'HS GPA', 'SAT', 'GPA', 'College Parent']]) #Datos entrada\n",
        "yd=np.array(XDB[['Grad']]) #Este es el dato que quiero que el modelo pronostique"
      ],
      "metadata": {
        "id": "NTz6INJU2-Hy"
      },
      "execution_count": null,
      "outputs": []
    },
    {
      "cell_type": "markdown",
      "source": [
        "#### **1.¿Determinar cuales son las variables que tienen una mayor correlación entre ellas, teniendo en cuenta para este análisis la variable de pronóstico o variable de salida ‘Grad’?**"
      ],
      "metadata": {
        "id": "9ukTZnL27LgF"
      }
    },
    {
      "cell_type": "markdown",
      "source": [
        "#### Matriz de correlacion"
      ],
      "metadata": {
        "id": "-Ox4fVbuIYrm"
      }
    },
    {
      "cell_type": "code",
      "source": [
        "corr = XDB.corr() # Hacer la matriz de correlacion de las variables\n",
        "corr"
      ],
      "metadata": {
        "colab": {
          "base_uri": "https://localhost:8080/",
          "height": 269
        },
        "id": "H0rHyFNP5iAu",
        "outputId": "e125037f-a09d-48af-ba55-bb28441e9ff6"
      },
      "execution_count": null,
      "outputs": [
        {
          "output_type": "execute_result",
          "data": {
            "text/plain": [
              "                     Sex     White    HS GPA       SAT       GPA  \\\n",
              "Sex             1.000000  0.029289  0.030116 -0.171818  0.171945   \n",
              "White           0.029289  1.000000  0.130981  0.191930  0.194132   \n",
              "HS GPA          0.030116  0.130981  1.000000  0.346767  0.376932   \n",
              "SAT            -0.171818  0.191930  0.346767  1.000000  0.260927   \n",
              "GPA             0.171945  0.194132  0.376932  0.260927  1.000000   \n",
              "College Parent -0.021320 -0.005987  0.020068 -0.029768 -0.015137   \n",
              "Grad            0.163517  0.133612  0.283404  0.172794  0.726624   \n",
              "\n",
              "                College Parent      Grad  \n",
              "Sex                  -0.021320  0.163517  \n",
              "White                -0.005987  0.133612  \n",
              "HS GPA                0.020068  0.283404  \n",
              "SAT                  -0.029768  0.172794  \n",
              "GPA                  -0.015137  0.726624  \n",
              "College Parent        1.000000 -0.018035  \n",
              "Grad                 -0.018035  1.000000  "
            ],
            "text/html": [
              "\n",
              "  <div id=\"df-e09b5e3d-4cff-4871-8891-a2a27583026b\" class=\"colab-df-container\">\n",
              "    <div>\n",
              "<style scoped>\n",
              "    .dataframe tbody tr th:only-of-type {\n",
              "        vertical-align: middle;\n",
              "    }\n",
              "\n",
              "    .dataframe tbody tr th {\n",
              "        vertical-align: top;\n",
              "    }\n",
              "\n",
              "    .dataframe thead th {\n",
              "        text-align: right;\n",
              "    }\n",
              "</style>\n",
              "<table border=\"1\" class=\"dataframe\">\n",
              "  <thead>\n",
              "    <tr style=\"text-align: right;\">\n",
              "      <th></th>\n",
              "      <th>Sex</th>\n",
              "      <th>White</th>\n",
              "      <th>HS GPA</th>\n",
              "      <th>SAT</th>\n",
              "      <th>GPA</th>\n",
              "      <th>College Parent</th>\n",
              "      <th>Grad</th>\n",
              "    </tr>\n",
              "  </thead>\n",
              "  <tbody>\n",
              "    <tr>\n",
              "      <th>Sex</th>\n",
              "      <td>1.000000</td>\n",
              "      <td>0.029289</td>\n",
              "      <td>0.030116</td>\n",
              "      <td>-0.171818</td>\n",
              "      <td>0.171945</td>\n",
              "      <td>-0.021320</td>\n",
              "      <td>0.163517</td>\n",
              "    </tr>\n",
              "    <tr>\n",
              "      <th>White</th>\n",
              "      <td>0.029289</td>\n",
              "      <td>1.000000</td>\n",
              "      <td>0.130981</td>\n",
              "      <td>0.191930</td>\n",
              "      <td>0.194132</td>\n",
              "      <td>-0.005987</td>\n",
              "      <td>0.133612</td>\n",
              "    </tr>\n",
              "    <tr>\n",
              "      <th>HS GPA</th>\n",
              "      <td>0.030116</td>\n",
              "      <td>0.130981</td>\n",
              "      <td>1.000000</td>\n",
              "      <td>0.346767</td>\n",
              "      <td>0.376932</td>\n",
              "      <td>0.020068</td>\n",
              "      <td>0.283404</td>\n",
              "    </tr>\n",
              "    <tr>\n",
              "      <th>SAT</th>\n",
              "      <td>-0.171818</td>\n",
              "      <td>0.191930</td>\n",
              "      <td>0.346767</td>\n",
              "      <td>1.000000</td>\n",
              "      <td>0.260927</td>\n",
              "      <td>-0.029768</td>\n",
              "      <td>0.172794</td>\n",
              "    </tr>\n",
              "    <tr>\n",
              "      <th>GPA</th>\n",
              "      <td>0.171945</td>\n",
              "      <td>0.194132</td>\n",
              "      <td>0.376932</td>\n",
              "      <td>0.260927</td>\n",
              "      <td>1.000000</td>\n",
              "      <td>-0.015137</td>\n",
              "      <td>0.726624</td>\n",
              "    </tr>\n",
              "    <tr>\n",
              "      <th>College Parent</th>\n",
              "      <td>-0.021320</td>\n",
              "      <td>-0.005987</td>\n",
              "      <td>0.020068</td>\n",
              "      <td>-0.029768</td>\n",
              "      <td>-0.015137</td>\n",
              "      <td>1.000000</td>\n",
              "      <td>-0.018035</td>\n",
              "    </tr>\n",
              "    <tr>\n",
              "      <th>Grad</th>\n",
              "      <td>0.163517</td>\n",
              "      <td>0.133612</td>\n",
              "      <td>0.283404</td>\n",
              "      <td>0.172794</td>\n",
              "      <td>0.726624</td>\n",
              "      <td>-0.018035</td>\n",
              "      <td>1.000000</td>\n",
              "    </tr>\n",
              "  </tbody>\n",
              "</table>\n",
              "</div>\n",
              "    <div class=\"colab-df-buttons\">\n",
              "\n",
              "  <div class=\"colab-df-container\">\n",
              "    <button class=\"colab-df-convert\" onclick=\"convertToInteractive('df-e09b5e3d-4cff-4871-8891-a2a27583026b')\"\n",
              "            title=\"Convert this dataframe to an interactive table.\"\n",
              "            style=\"display:none;\">\n",
              "\n",
              "  <svg xmlns=\"http://www.w3.org/2000/svg\" height=\"24px\" viewBox=\"0 -960 960 960\">\n",
              "    <path d=\"M120-120v-720h720v720H120Zm60-500h600v-160H180v160Zm220 220h160v-160H400v160Zm0 220h160v-160H400v160ZM180-400h160v-160H180v160Zm440 0h160v-160H620v160ZM180-180h160v-160H180v160Zm440 0h160v-160H620v160Z\"/>\n",
              "  </svg>\n",
              "    </button>\n",
              "\n",
              "  <style>\n",
              "    .colab-df-container {\n",
              "      display:flex;\n",
              "      gap: 12px;\n",
              "    }\n",
              "\n",
              "    .colab-df-convert {\n",
              "      background-color: #E8F0FE;\n",
              "      border: none;\n",
              "      border-radius: 50%;\n",
              "      cursor: pointer;\n",
              "      display: none;\n",
              "      fill: #1967D2;\n",
              "      height: 32px;\n",
              "      padding: 0 0 0 0;\n",
              "      width: 32px;\n",
              "    }\n",
              "\n",
              "    .colab-df-convert:hover {\n",
              "      background-color: #E2EBFA;\n",
              "      box-shadow: 0px 1px 2px rgba(60, 64, 67, 0.3), 0px 1px 3px 1px rgba(60, 64, 67, 0.15);\n",
              "      fill: #174EA6;\n",
              "    }\n",
              "\n",
              "    .colab-df-buttons div {\n",
              "      margin-bottom: 4px;\n",
              "    }\n",
              "\n",
              "    [theme=dark] .colab-df-convert {\n",
              "      background-color: #3B4455;\n",
              "      fill: #D2E3FC;\n",
              "    }\n",
              "\n",
              "    [theme=dark] .colab-df-convert:hover {\n",
              "      background-color: #434B5C;\n",
              "      box-shadow: 0px 1px 3px 1px rgba(0, 0, 0, 0.15);\n",
              "      filter: drop-shadow(0px 1px 2px rgba(0, 0, 0, 0.3));\n",
              "      fill: #FFFFFF;\n",
              "    }\n",
              "  </style>\n",
              "\n",
              "    <script>\n",
              "      const buttonEl =\n",
              "        document.querySelector('#df-e09b5e3d-4cff-4871-8891-a2a27583026b button.colab-df-convert');\n",
              "      buttonEl.style.display =\n",
              "        google.colab.kernel.accessAllowed ? 'block' : 'none';\n",
              "\n",
              "      async function convertToInteractive(key) {\n",
              "        const element = document.querySelector('#df-e09b5e3d-4cff-4871-8891-a2a27583026b');\n",
              "        const dataTable =\n",
              "          await google.colab.kernel.invokeFunction('convertToInteractive',\n",
              "                                                    [key], {});\n",
              "        if (!dataTable) return;\n",
              "\n",
              "        const docLinkHtml = 'Like what you see? Visit the ' +\n",
              "          '<a target=\"_blank\" href=https://colab.research.google.com/notebooks/data_table.ipynb>data table notebook</a>'\n",
              "          + ' to learn more about interactive tables.';\n",
              "        element.innerHTML = '';\n",
              "        dataTable['output_type'] = 'display_data';\n",
              "        await google.colab.output.renderOutput(dataTable, element);\n",
              "        const docLink = document.createElement('div');\n",
              "        docLink.innerHTML = docLinkHtml;\n",
              "        element.appendChild(docLink);\n",
              "      }\n",
              "    </script>\n",
              "  </div>\n",
              "\n",
              "\n",
              "<div id=\"df-352b40d4-016a-4115-8fb1-0bba92306dde\">\n",
              "  <button class=\"colab-df-quickchart\" onclick=\"quickchart('df-352b40d4-016a-4115-8fb1-0bba92306dde')\"\n",
              "            title=\"Suggest charts\"\n",
              "            style=\"display:none;\">\n",
              "\n",
              "<svg xmlns=\"http://www.w3.org/2000/svg\" height=\"24px\"viewBox=\"0 0 24 24\"\n",
              "     width=\"24px\">\n",
              "    <g>\n",
              "        <path d=\"M19 3H5c-1.1 0-2 .9-2 2v14c0 1.1.9 2 2 2h14c1.1 0 2-.9 2-2V5c0-1.1-.9-2-2-2zM9 17H7v-7h2v7zm4 0h-2V7h2v10zm4 0h-2v-4h2v4z\"/>\n",
              "    </g>\n",
              "</svg>\n",
              "  </button>\n",
              "\n",
              "<style>\n",
              "  .colab-df-quickchart {\n",
              "      --bg-color: #E8F0FE;\n",
              "      --fill-color: #1967D2;\n",
              "      --hover-bg-color: #E2EBFA;\n",
              "      --hover-fill-color: #174EA6;\n",
              "      --disabled-fill-color: #AAA;\n",
              "      --disabled-bg-color: #DDD;\n",
              "  }\n",
              "\n",
              "  [theme=dark] .colab-df-quickchart {\n",
              "      --bg-color: #3B4455;\n",
              "      --fill-color: #D2E3FC;\n",
              "      --hover-bg-color: #434B5C;\n",
              "      --hover-fill-color: #FFFFFF;\n",
              "      --disabled-bg-color: #3B4455;\n",
              "      --disabled-fill-color: #666;\n",
              "  }\n",
              "\n",
              "  .colab-df-quickchart {\n",
              "    background-color: var(--bg-color);\n",
              "    border: none;\n",
              "    border-radius: 50%;\n",
              "    cursor: pointer;\n",
              "    display: none;\n",
              "    fill: var(--fill-color);\n",
              "    height: 32px;\n",
              "    padding: 0;\n",
              "    width: 32px;\n",
              "  }\n",
              "\n",
              "  .colab-df-quickchart:hover {\n",
              "    background-color: var(--hover-bg-color);\n",
              "    box-shadow: 0 1px 2px rgba(60, 64, 67, 0.3), 0 1px 3px 1px rgba(60, 64, 67, 0.15);\n",
              "    fill: var(--button-hover-fill-color);\n",
              "  }\n",
              "\n",
              "  .colab-df-quickchart-complete:disabled,\n",
              "  .colab-df-quickchart-complete:disabled:hover {\n",
              "    background-color: var(--disabled-bg-color);\n",
              "    fill: var(--disabled-fill-color);\n",
              "    box-shadow: none;\n",
              "  }\n",
              "\n",
              "  .colab-df-spinner {\n",
              "    border: 2px solid var(--fill-color);\n",
              "    border-color: transparent;\n",
              "    border-bottom-color: var(--fill-color);\n",
              "    animation:\n",
              "      spin 1s steps(1) infinite;\n",
              "  }\n",
              "\n",
              "  @keyframes spin {\n",
              "    0% {\n",
              "      border-color: transparent;\n",
              "      border-bottom-color: var(--fill-color);\n",
              "      border-left-color: var(--fill-color);\n",
              "    }\n",
              "    20% {\n",
              "      border-color: transparent;\n",
              "      border-left-color: var(--fill-color);\n",
              "      border-top-color: var(--fill-color);\n",
              "    }\n",
              "    30% {\n",
              "      border-color: transparent;\n",
              "      border-left-color: var(--fill-color);\n",
              "      border-top-color: var(--fill-color);\n",
              "      border-right-color: var(--fill-color);\n",
              "    }\n",
              "    40% {\n",
              "      border-color: transparent;\n",
              "      border-right-color: var(--fill-color);\n",
              "      border-top-color: var(--fill-color);\n",
              "    }\n",
              "    60% {\n",
              "      border-color: transparent;\n",
              "      border-right-color: var(--fill-color);\n",
              "    }\n",
              "    80% {\n",
              "      border-color: transparent;\n",
              "      border-right-color: var(--fill-color);\n",
              "      border-bottom-color: var(--fill-color);\n",
              "    }\n",
              "    90% {\n",
              "      border-color: transparent;\n",
              "      border-bottom-color: var(--fill-color);\n",
              "    }\n",
              "  }\n",
              "</style>\n",
              "\n",
              "  <script>\n",
              "    async function quickchart(key) {\n",
              "      const quickchartButtonEl =\n",
              "        document.querySelector('#' + key + ' button');\n",
              "      quickchartButtonEl.disabled = true;  // To prevent multiple clicks.\n",
              "      quickchartButtonEl.classList.add('colab-df-spinner');\n",
              "      try {\n",
              "        const charts = await google.colab.kernel.invokeFunction(\n",
              "            'suggestCharts', [key], {});\n",
              "      } catch (error) {\n",
              "        console.error('Error during call to suggestCharts:', error);\n",
              "      }\n",
              "      quickchartButtonEl.classList.remove('colab-df-spinner');\n",
              "      quickchartButtonEl.classList.add('colab-df-quickchart-complete');\n",
              "    }\n",
              "    (() => {\n",
              "      let quickchartButtonEl =\n",
              "        document.querySelector('#df-352b40d4-016a-4115-8fb1-0bba92306dde button');\n",
              "      quickchartButtonEl.style.display =\n",
              "        google.colab.kernel.accessAllowed ? 'block' : 'none';\n",
              "    })();\n",
              "  </script>\n",
              "</div>\n",
              "\n",
              "  <div id=\"id_ba4ece12-ffa9-408d-adeb-8348e5296f04\">\n",
              "    <style>\n",
              "      .colab-df-generate {\n",
              "        background-color: #E8F0FE;\n",
              "        border: none;\n",
              "        border-radius: 50%;\n",
              "        cursor: pointer;\n",
              "        display: none;\n",
              "        fill: #1967D2;\n",
              "        height: 32px;\n",
              "        padding: 0 0 0 0;\n",
              "        width: 32px;\n",
              "      }\n",
              "\n",
              "      .colab-df-generate:hover {\n",
              "        background-color: #E2EBFA;\n",
              "        box-shadow: 0px 1px 2px rgba(60, 64, 67, 0.3), 0px 1px 3px 1px rgba(60, 64, 67, 0.15);\n",
              "        fill: #174EA6;\n",
              "      }\n",
              "\n",
              "      [theme=dark] .colab-df-generate {\n",
              "        background-color: #3B4455;\n",
              "        fill: #D2E3FC;\n",
              "      }\n",
              "\n",
              "      [theme=dark] .colab-df-generate:hover {\n",
              "        background-color: #434B5C;\n",
              "        box-shadow: 0px 1px 3px 1px rgba(0, 0, 0, 0.15);\n",
              "        filter: drop-shadow(0px 1px 2px rgba(0, 0, 0, 0.3));\n",
              "        fill: #FFFFFF;\n",
              "      }\n",
              "    </style>\n",
              "    <button class=\"colab-df-generate\" onclick=\"generateWithVariable('corr')\"\n",
              "            title=\"Generate code using this dataframe.\"\n",
              "            style=\"display:none;\">\n",
              "\n",
              "  <svg xmlns=\"http://www.w3.org/2000/svg\" height=\"24px\"viewBox=\"0 0 24 24\"\n",
              "       width=\"24px\">\n",
              "    <path d=\"M7,19H8.4L18.45,9,17,7.55,7,17.6ZM5,21V16.75L18.45,3.32a2,2,0,0,1,2.83,0l1.4,1.43a1.91,1.91,0,0,1,.58,1.4,1.91,1.91,0,0,1-.58,1.4L9.25,21ZM18.45,9,17,7.55Zm-12,3A5.31,5.31,0,0,0,4.9,8.1,5.31,5.31,0,0,0,1,6.5,5.31,5.31,0,0,0,4.9,4.9,5.31,5.31,0,0,0,6.5,1,5.31,5.31,0,0,0,8.1,4.9,5.31,5.31,0,0,0,12,6.5,5.46,5.46,0,0,0,6.5,12Z\"/>\n",
              "  </svg>\n",
              "    </button>\n",
              "    <script>\n",
              "      (() => {\n",
              "      const buttonEl =\n",
              "        document.querySelector('#id_ba4ece12-ffa9-408d-adeb-8348e5296f04 button.colab-df-generate');\n",
              "      buttonEl.style.display =\n",
              "        google.colab.kernel.accessAllowed ? 'block' : 'none';\n",
              "\n",
              "      buttonEl.onclick = () => {\n",
              "        google.colab.notebook.generateWithVariable('corr');\n",
              "      }\n",
              "      })();\n",
              "    </script>\n",
              "  </div>\n",
              "\n",
              "    </div>\n",
              "  </div>\n"
            ],
            "application/vnd.google.colaboratory.intrinsic+json": {
              "type": "dataframe",
              "variable_name": "corr",
              "summary": "{\n  \"name\": \"corr\",\n  \"rows\": 7,\n  \"fields\": [\n    {\n      \"column\": \"Sex\",\n      \"properties\": {\n        \"dtype\": \"number\",\n        \"std\": 0.383348325089128,\n        \"min\": -0.17181762221533498,\n        \"max\": 1.0,\n        \"num_unique_values\": 7,\n        \"samples\": [\n          1.0,\n          0.029289137450070033,\n          -0.021319585843803366\n        ],\n        \"semantic_type\": \"\",\n        \"description\": \"\"\n      }\n    },\n    {\n      \"column\": \"White\",\n      \"properties\": {\n        \"dtype\": \"number\",\n        \"std\": 0.34402560463120657,\n        \"min\": -0.005986884468415346,\n        \"max\": 1.0,\n        \"num_unique_values\": 7,\n        \"samples\": [\n          0.029289137450070033,\n          1.0,\n          -0.005986884468415346\n        ],\n        \"semantic_type\": \"\",\n        \"description\": \"\"\n      }\n    },\n    {\n      \"column\": \"HS GPA\",\n      \"properties\": {\n        \"dtype\": \"number\",\n        \"std\": 0.3359153131788396,\n        \"min\": 0.020068229759735545,\n        \"max\": 1.0,\n        \"num_unique_values\": 7,\n        \"samples\": [\n          0.030116284820044203,\n          0.13098064745605162,\n          0.020068229759735545\n        ],\n        \"semantic_type\": \"\",\n        \"description\": \"\"\n      }\n    },\n    {\n      \"column\": \"SAT\",\n      \"properties\": {\n        \"dtype\": \"number\",\n        \"std\": 0.3735983904114926,\n        \"min\": -0.17181762221533498,\n        \"max\": 1.0,\n        \"num_unique_values\": 7,\n        \"samples\": [\n          -0.17181762221533498,\n          0.19193012148693236,\n          -0.029768196920765794\n        ],\n        \"semantic_type\": \"\",\n        \"description\": \"\"\n      }\n    },\n    {\n      \"column\": \"GPA\",\n      \"properties\": {\n        \"dtype\": \"number\",\n        \"std\": 0.3540867262521672,\n        \"min\": -0.015137436305767702,\n        \"max\": 1.0,\n        \"num_unique_values\": 7,\n        \"samples\": [\n          0.17194487668603323,\n          0.19413194327185468,\n          -0.015137436305767702\n        ],\n        \"semantic_type\": \"\",\n        \"description\": \"\"\n      }\n    },\n    {\n      \"column\": \"College Parent\",\n      \"properties\": {\n        \"dtype\": \"number\",\n        \"std\": 0.3827148792181542,\n        \"min\": -0.029768196920765794,\n        \"max\": 1.0,\n        \"num_unique_values\": 7,\n        \"samples\": [\n          -0.021319585843803366,\n          -0.005986884468415346,\n          1.0\n        ],\n        \"semantic_type\": \"\",\n        \"description\": \"\"\n      }\n    },\n    {\n      \"column\": \"Grad\",\n      \"properties\": {\n        \"dtype\": \"number\",\n        \"std\": 0.3690555215239233,\n        \"min\": -0.018035134677367858,\n        \"max\": 1.0,\n        \"num_unique_values\": 7,\n        \"samples\": [\n          0.16351679811773703,\n          0.13361160104918676,\n          -0.018035134677367858\n        ],\n        \"semantic_type\": \"\",\n        \"description\": \"\"\n      }\n    }\n  ]\n}"
            }
          },
          "metadata": {},
          "execution_count": 51
        }
      ]
    },
    {
      "cell_type": "code",
      "source": [
        "corr['Grad'].sort_values(ascending=False)[1:] # Ordenar de mayor a menor los valores de la correlacion entre las variables independiente y la dependiente u objetivo"
      ],
      "metadata": {
        "colab": {
          "base_uri": "https://localhost:8080/",
          "height": 272
        },
        "id": "c2LsV32G6UBS",
        "outputId": "70f3d8a9-ee67-4142-85df-5c477780d7d4"
      },
      "execution_count": null,
      "outputs": [
        {
          "output_type": "execute_result",
          "data": {
            "text/plain": [
              "GPA               0.726624\n",
              "HS GPA            0.283404\n",
              "SAT               0.172794\n",
              "Sex               0.163517\n",
              "White             0.133612\n",
              "College Parent   -0.018035\n",
              "Name: Grad, dtype: float64"
            ],
            "text/html": [
              "<div>\n",
              "<style scoped>\n",
              "    .dataframe tbody tr th:only-of-type {\n",
              "        vertical-align: middle;\n",
              "    }\n",
              "\n",
              "    .dataframe tbody tr th {\n",
              "        vertical-align: top;\n",
              "    }\n",
              "\n",
              "    .dataframe thead th {\n",
              "        text-align: right;\n",
              "    }\n",
              "</style>\n",
              "<table border=\"1\" class=\"dataframe\">\n",
              "  <thead>\n",
              "    <tr style=\"text-align: right;\">\n",
              "      <th></th>\n",
              "      <th>Grad</th>\n",
              "    </tr>\n",
              "  </thead>\n",
              "  <tbody>\n",
              "    <tr>\n",
              "      <th>GPA</th>\n",
              "      <td>0.726624</td>\n",
              "    </tr>\n",
              "    <tr>\n",
              "      <th>HS GPA</th>\n",
              "      <td>0.283404</td>\n",
              "    </tr>\n",
              "    <tr>\n",
              "      <th>SAT</th>\n",
              "      <td>0.172794</td>\n",
              "    </tr>\n",
              "    <tr>\n",
              "      <th>Sex</th>\n",
              "      <td>0.163517</td>\n",
              "    </tr>\n",
              "    <tr>\n",
              "      <th>White</th>\n",
              "      <td>0.133612</td>\n",
              "    </tr>\n",
              "    <tr>\n",
              "      <th>College Parent</th>\n",
              "      <td>-0.018035</td>\n",
              "    </tr>\n",
              "  </tbody>\n",
              "</table>\n",
              "</div><br><label><b>dtype:</b> float64</label>"
            ]
          },
          "metadata": {},
          "execution_count": 52
        }
      ]
    },
    {
      "cell_type": "markdown",
      "source": [
        "##### **Respuesta**"
      ],
      "metadata": {
        "id": "6RX26tekIeEU"
      }
    },
    {
      "cell_type": "markdown",
      "source": [
        "Las variables con mayor correlacion con respecto a la variable de pronostico 'Grad' son:\n",
        "\n",
        "- Grad - GPA: **0.73**\n",
        "- Grad - HS GPA: **0.28**"
      ],
      "metadata": {
        "id": "Foqj0YK37RgE"
      }
    },
    {
      "cell_type": "markdown",
      "source": [
        "#### **2. ¿Cuáles son las dos variables que tienen mayor correlación frente a la  graficación de los datos?**"
      ],
      "metadata": {
        "id": "iHYxVP907UNl"
      }
    },
    {
      "cell_type": "markdown",
      "source": [
        "#### Matriz de correlacion - gráfica"
      ],
      "metadata": {
        "id": "CY9rn30HIP0K"
      }
    },
    {
      "cell_type": "code",
      "source": [
        "sns.heatmap(XDB.corr(), annot=True, cmap = 'viridis'); # Graficar la matriz de correlacion"
      ],
      "metadata": {
        "colab": {
          "base_uri": "https://localhost:8080/",
          "height": 522
        },
        "id": "Mr81sy1eyq3O",
        "outputId": "3a749c54-f825-4033-b3fd-117f47a878e9"
      },
      "execution_count": null,
      "outputs": [
        {
          "output_type": "display_data",
          "data": {
            "text/plain": [
              "<Figure size 640x480 with 2 Axes>"
            ],
            "image/png": "[encoded data removed]"
          },
          "metadata": {}
        }
      ]
    },
    {
      "cell_type": "markdown",
      "source": [
        "##### **Respuesta**"
      ],
      "metadata": {
        "id": "voW3NKlHIKgC"
      }
    },
    {
      "cell_type": "markdown",
      "source": [
        "Entre las otras variables independientes la mayor correlación se da entre:\n",
        "\n",
        "- GPA - HS GPA: **0.38**\n",
        "- SAT - HS GPA: **0.35**"
      ],
      "metadata": {
        "id": "qDYmykgz0gM0"
      }
    },
    {
      "cell_type": "markdown",
      "source": [
        "### **Ajustar un modelo de Naive Bayes**"
      ],
      "metadata": {
        "id": "1shsDWRpH58f"
      }
    },
    {
      "cell_type": "markdown",
      "source": [
        "#### **3. ¿Cuál es el grupo de clasificación que logró la mayor calificación en la preparatoria (HS GPA) y el promedio de la Universidad (GPA)?**"
      ],
      "metadata": {
        "id": "f-kHdvE6FCsD"
      }
    },
    {
      "cell_type": "code",
      "source": [
        "XDB.columns"
      ],
      "metadata": {
        "colab": {
          "base_uri": "https://localhost:8080/"
        },
        "id": "W51O-9XjBvyC",
        "outputId": "134800ef-bf72-4ba0-a513-9b22cc2e1332"
      },
      "execution_count": null,
      "outputs": [
        {
          "output_type": "execute_result",
          "data": {
            "text/plain": [
              "Index(['Sex', 'White', 'HS GPA', 'SAT', 'GPA', 'College Parent', 'Grad'], dtype='object')"
            ]
          },
          "metadata": {},
          "execution_count": 54
        }
      ]
    },
    {
      "cell_type": "code",
      "source": [
        "mnb=GaussianNB() #Llamamos el modelo\n",
        "mnb.fit(XD,yd) # Ajustar el modelo a los datos de entrada y salida\n",
        "ydp=mnb.predict(XD) # Pronostico intramuestral\n",
        "\n",
        "#Parametros del modelo por categoria - Graduado / NO graduado\n",
        "u=mnb.theta_ #Se estiman las medias\n",
        "sigma=np.sqrt(mnb.var_) #Se estiman las varianzas\n",
        "\n",
        "#Las variaciones de las variables\n",
        "LI=u-sigma\n",
        "LS=u+sigma\n",
        "\n",
        "print('La media de las variables por categoria:')\n",
        "print (u)\n",
        "print('El limite inferior de la variación de las variables por categoria es:')\n",
        "print(LI)\n",
        "print('El limite superior de la variación de las variables por categoria es:')\n",
        "print (LS)\n",
        "\n",
        "#Métrica de evaluación - Como se comporto el modelo identificando Graduado / NO graduado\n",
        "cm=confusion_matrix(yd,ydp) #Matriz de confusion"
      ],
      "metadata": {
        "colab": {
          "base_uri": "https://localhost:8080/"
        },
        "id": "LgqRXLEL5DC_",
        "outputId": "51de3a3f-62b0-457a-bf59-2bdda2e287ac"
      },
      "execution_count": null,
      "outputs": [
        {
          "output_type": "stream",
          "name": "stdout",
          "text": [
            "La media de las variables por categoria:\n",
            "[[5.86038961e-01 3.70939935e+00 1.23485390e+03 2.43128247e+00\n",
            "  6.98051948e-01]\n",
            " [7.21098266e-01 3.91479769e+00 1.28854769e+03 3.28720303e+00\n",
            "  6.79913295e-01]]\n",
            "El limite inferior de la variación de las variables por categoria es:\n",
            "[[9.34763992e-02 3.33244695e+00 1.08319860e+03 1.95529138e+00\n",
            "  2.38926686e-01]\n",
            " [2.72616229e-01 3.62226610e+00 1.15210925e+03 2.96953734e+00\n",
            "  2.13381638e-01]]\n",
            "El limite superior de la variación de las variables por categoria es:\n",
            "[[1.07860152e+00 4.08635175e+00 1.38650919e+03 2.90727356e+00\n",
            "  1.15717721e+00]\n",
            " [1.16958030e+00 4.20732928e+00 1.42498613e+03 3.60486872e+00\n",
            "  1.14644495e+00]]\n"
          ]
        },
        {
          "output_type": "stream",
          "name": "stderr",
          "text": [
            "/usr/local/lib/python3.10/dist-packages/sklearn/utils/validation.py:1183: DataConversionWarning: A column-vector y was passed when a 1d array was expected. Please change the shape of y to (n_samples, ), for example using ravel().\n",
            "  y = column_or_1d(y, warn=True)\n"
          ]
        }
      ]
    },
    {
      "cell_type": "markdown",
      "source": [
        "El array de arriba es para los 'Grad = 0'\n",
        "\n",
        "El array de abajo es para los 'Grad = 1'"
      ],
      "metadata": {
        "id": "IvE_JC5w_h_v"
      }
    },
    {
      "cell_type": "code",
      "source": [
        "print(f'La media del HS GPA de los NO graduados es: {np.round(u[0, 1], 4)}')\n",
        "print(f'La media del HS GPA de los SI graduados es: {np.round(u[1, 1], 4)}')\n",
        "print('-------------------------------------------------------------------------')\n",
        "print(f'La media del GPA de los NO graduados es: {np.round(u[0, 3], 4)}')\n",
        "print(f'La media del GPA de los SI graduados es: {np.round(u[1, 3], 4)}')"
      ],
      "metadata": {
        "colab": {
          "base_uri": "https://localhost:8080/"
        },
        "id": "b0vKh0ZwFmMp",
        "outputId": "6b22d21e-d6ad-42ce-849a-58a9182c555a"
      },
      "execution_count": null,
      "outputs": [
        {
          "output_type": "stream",
          "name": "stdout",
          "text": [
            "La media del HS GPA de los NO graduados es: 3.7094\n",
            "La media del HS GPA de los SI graduados es: 3.9148\n",
            "-------------------------------------------------------------------------\n",
            "La media del GPA de los NO graduados es: 2.4313\n",
            "La media del GPA de los SI graduados es: 3.2872\n"
          ]
        }
      ]
    },
    {
      "cell_type": "markdown",
      "source": [
        "#### **4.¿De acuerdo con los índices de exactitud, sensibilidad y especificidad, determinar cómo fue el comportamiento del modelo?**"
      ],
      "metadata": {
        "id": "zf4eQwMLGdhx"
      }
    },
    {
      "cell_type": "code",
      "source": [
        "VN=cm[0,0] #Verdaderos negativos\n",
        "FP=cm[0,1] #Falsos positivos\n",
        "FN=cm[1,0] #Falsos negativos\n",
        "VP=cm[1,1] #Verdaderos positivos\n",
        "\n",
        "Exactitud=(VN+VP)/len(XD)\n",
        "print('La Exactitud es:',Exactitud) #Comportamiento general\n",
        "\n",
        "Sensibilidad=VP/(FN+VP)\n",
        "print('La Sensibilidad es:',Sensibilidad) #Como se comporto frente a los positivos\n",
        "\n",
        "Especificidad=VN/(VN+FP)\n",
        "print('La Especificidad es:',Especificidad) #Como se comportaron frente a los negativos"
      ],
      "metadata": {
        "colab": {
          "base_uri": "https://localhost:8080/"
        },
        "id": "XfJ1vuufBr59",
        "outputId": "3fc50408-1759-434f-dc26-c2db55c65d79"
      },
      "execution_count": null,
      "outputs": [
        {
          "output_type": "stream",
          "name": "stdout",
          "text": [
            "La Exactitud es: 0.867\n",
            "La Sensibilidad es: 0.9263005780346821\n",
            "La Especificidad es: 0.7337662337662337\n"
          ]
        }
      ]
    },
    {
      "cell_type": "markdown",
      "source": [
        "##### **Respuesta**"
      ],
      "metadata": {
        "id": "pZ9_Q_1KIoe2"
      }
    },
    {
      "cell_type": "markdown",
      "source": [
        "La Exactitud es: **0.867**\n",
        "\n",
        "La Sensibilidad es: **0.9263**\n",
        "\n",
        "La Especificidad es: **0.7337**\n",
        "\n",
        "El modelo de Naive Bayes mostró un desempeño positivo.  La exactitud fue del 86,70%, lo que refleja una capacidad sólida del modelo para predecir correctamente los casos generales. La sensibilidad alcanzó el 92,63%, indicando que el modelo tiene un excelente desempeño en la identificación de personas que lograrán graduarse en el tiempo estipulado. Por otro lado, la especificidad fue de 73,37%, lo que sugiere que es algo menos preciso en la clasificación de quienes no lograrán graduarse en cuatro años. En conjunto, el modelo ofrece un buen equilibrio entre las predicciones correctas de ambos casos, aunque con una ligera inclinación hacia la identificación de quienes sí completarán su grado en el tiempo previsto."
      ],
      "metadata": {
        "id": "5ygGtuJgItNT"
      }
    },
    {
      "cell_type": "markdown",
      "source": [
        "#### **5. ¿Determinar la categoría a la cual pertenecen cada uno de los individuos de pronóstico (Hoja 2)?**"
      ],
      "metadata": {
        "id": "cCWNroa-HDcK"
      }
    },
    {
      "cell_type": "markdown",
      "source": [
        "##### **Predicciones y respuesta**"
      ],
      "metadata": {
        "id": "xVD0AvXMI-Jr"
      }
    },
    {
      "cell_type": "code",
      "source": [
        "Xun=np.array([[ 1, 4, 1260, 1.9, 1]]) #Esta es la persona 1 del Excel(Hoja 2)\n",
        "ydun=mnb.predict(Xun)\n",
        "print(ydun)"
      ],
      "metadata": {
        "colab": {
          "base_uri": "https://localhost:8080/"
        },
        "id": "mC4_58LMLX8f",
        "outputId": "19e10f24-7760-437b-cc26-84d4d3bbee06"
      },
      "execution_count": null,
      "outputs": [
        {
          "output_type": "stream",
          "name": "stdout",
          "text": [
            "[0]\n"
          ]
        }
      ]
    },
    {
      "cell_type": "code",
      "source": [
        "Xun=np.array([[ 1, 2.91, 1090, 2.719, 1]]) #Esta es la persona 2 del Excel(Hoja 2)\n",
        "ydun=mnb.predict(Xun)\n",
        "print(ydun)"
      ],
      "metadata": {
        "colab": {
          "base_uri": "https://localhost:8080/"
        },
        "id": "KPF8bHLgLrhY",
        "outputId": "83cd37ef-2f90-476f-9d70-8aca1a460f30"
      },
      "execution_count": null,
      "outputs": [
        {
          "output_type": "stream",
          "name": "stdout",
          "text": [
            "[0]\n"
          ]
        }
      ]
    },
    {
      "cell_type": "code",
      "source": [
        "Xun=np.array([[ 0, 3.58, 1210, 3.319, 1]]) #Esta es la persona 3 del Excel(Hoja 2)\n",
        "ydun=mnb.predict(Xun)\n",
        "print(ydun)"
      ],
      "metadata": {
        "colab": {
          "base_uri": "https://localhost:8080/"
        },
        "id": "BUOsmjfML2-r",
        "outputId": "2b19f903-77bc-46e8-bdd5-b8922513585d"
      },
      "execution_count": null,
      "outputs": [
        {
          "output_type": "stream",
          "name": "stdout",
          "text": [
            "[1]\n"
          ]
        }
      ]
    },
    {
      "cell_type": "markdown",
      "source": [
        "Persona 1: NO graduado\n",
        "\n",
        "Persona 2: No graduado\n",
        "\n",
        "Persona 3: SI graduado"
      ],
      "metadata": {
        "id": "-b-NfJvIW6oj"
      }
    },
    {
      "cell_type": "markdown",
      "source": [
        "### **Ajustar un modelo Decision Tree**"
      ],
      "metadata": {
        "id": "6DfVVx58lPeB"
      }
    },
    {
      "cell_type": "markdown",
      "source": [
        "#### **6. ¿Cuál fue el comportamiento que tuvo el modelo frente a los índices de exactitud, sensibilidad y especificidad, y comparar este comportamiento con el modelo Naive Bayes?**"
      ],
      "metadata": {
        "id": "kVYJayw0JI_o"
      }
    },
    {
      "cell_type": "code",
      "source": [
        "mar=DecisionTreeClassifier(criterion='gini',max_depth=4) #4 niveles o variables de entrada\n",
        "mar.fit(XD,yd)\n",
        "ydp=mar.predict(XD)\n",
        "\n",
        "from sklearn.metrics import confusion_matrix\n",
        "cm=confusion_matrix(yd,ydp)\n",
        "print(cm)\n",
        "\n",
        "#Evaluamos el modelo\n",
        "VN=cm [0,0]\n",
        "FP=cm [0,1]\n",
        "FN=cm[1,0]\n",
        "VP=cm[1,1]\n",
        "\n",
        "Ex=(VN+VP)/(VN+VP+FN+FP) #Que porcentaje de los datos prónostico correctamente\n",
        "print('La exactitud alcanzada por el modelo es:',Ex)\n",
        "Se= VP/(FN+VP)\n",
        "print('La sensibilidad alcanzada por el modelo fue:',Se)\n",
        "Es=VN/(VN+FP)\n",
        "print('La especificidad alcanzada por el modelo fue:',Es)"
      ],
      "metadata": {
        "colab": {
          "base_uri": "https://localhost:8080/"
        },
        "id": "rJ4rYI5DMqXC",
        "outputId": "b40563ea-fe28-4888-b084-2765a76ef89f"
      },
      "execution_count": null,
      "outputs": [
        {
          "output_type": "stream",
          "name": "stdout",
          "text": [
            "[[ 422  194]\n",
            " [   2 1382]]\n",
            "La exactitud alcanzada por el modelo es: 0.902\n",
            "La sensibilidad alcanzada por el modelo fue: 0.9985549132947977\n",
            "La especificidad alcanzada por el modelo fue: 0.685064935064935\n"
          ]
        }
      ]
    },
    {
      "cell_type": "markdown",
      "source": [
        "##### **Respuesta**\n",
        "El modelo de árbol de decisión tuvo un comportamiento bueno, con una exactitud de 90,2%, el modelo es altamente eficaz en la clasificación general de los casos. Su sensibilidad sobresaliente del 99,86% indica que casi todas las personas que lograrán graduarse fueron correctamente identificadas. Sin embargo, la especificidad fue más baja, alcanzando solo un 68,51%, lo que revela que el modelo tiene dificultades para identificar correctamente a quienes no lograrán graduarse en el tiempo estipulado. En resumen, el árbol de decisión es muy eficaz para predecir los casos positivos, pero es menos preciso en la clasificación de los negativos.\n",
        "\n",
        "Comparado con el modelo Naive Bayes y comparando ambos modelos, el árbol de decisión tiene una mayor exactitud (90,2% vs. 86,70%) y una sensibilidad notablemente superior (99,86% vs. 92,63%) en comparación con Naive Bayes, lo que lo hace excelente para predecir a quienes lograrán graduarse. Sin embargo, Naive Bayes es mejor en términos de especificidad (82,86% vs. 73,37%), mostrando mayor precisión al identificar a quienes no se graduarán. En resumen, el árbol de decisión es más eficaz para predecir graduaciones, mientras que Naive Bayes es más equilibrado en ambas clases."
      ],
      "metadata": {
        "id": "Sn1yP7kQJuz2"
      }
    },
    {
      "cell_type": "markdown",
      "source": [
        "#### **7.¿Indicar las reglas del negocio que definen los nodos puros?**"
      ],
      "metadata": {
        "id": "-Cv4DlRiJ4g-"
      }
    },
    {
      "cell_type": "markdown",
      "source": [
        "#### Graficar el arbol"
      ],
      "metadata": {
        "id": "sJIxGLqUKn7v"
      }
    },
    {
      "cell_type": "code",
      "source": [
        "#Estas son las librerias para gráficar el arbol\n",
        "from sklearn.tree import export_graphviz\n",
        "from pydotplus import graph_from_dot_data\n",
        "\n",
        "vs=[ 'White', 'HS GPA', 'SAT', 'GPA', 'College Parent'] #Son los titulos para los nodos\n",
        "dot_graph=export_graphviz(mar,feature_names=vs)\n",
        "graph=graph_from_dot_data(dot_graph)\n",
        "graph.write_png('arbol.png')"
      ],
      "metadata": {
        "colab": {
          "base_uri": "https://localhost:8080/"
        },
        "id": "48RQ8UmrmQtY",
        "outputId": "b3f6b704-11f9-4515-a55e-a64af40df95b"
      },
      "execution_count": null,
      "outputs": [
        {
          "output_type": "execute_result",
          "data": {
            "text/plain": [
              "True"
            ]
          },
          "metadata": {},
          "execution_count": 62
        }
      ]
    },
    {
      "cell_type": "markdown",
      "source": [
        "##### **Respuesta**"
      ],
      "metadata": {
        "id": "JvIll01cKr8s"
      }
    },
    {
      "cell_type": "markdown",
      "source": [
        "![image.png](data:image/png;base64,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)"
      ],
      "metadata": {
        "id": "oX_lfuvDTKYO"
      }
    },
    {
      "cell_type": "markdown",
      "source": [
        "#### **8.Determinar las reglas a las que pertenecen los individuos de pronóstico (Hoja 2).**"
      ],
      "metadata": {
        "id": "I9oGs-fCKwC_"
      }
    },
    {
      "cell_type": "markdown",
      "source": [
        "##### **Respuesta**"
      ],
      "metadata": {
        "id": "4YpFgjglK43k"
      }
    },
    {
      "cell_type": "markdown",
      "source": [
        "![image.png](data:image/png;base64,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)"
      ],
      "metadata": {
        "id": "cGXmaqXHWMRn"
      }
    },
    {
      "cell_type": "markdown",
      "source": [
        "###**Agrupamiento de Kmeans**"
      ],
      "metadata": {
        "id": "QrEC-5eBoAQL"
      }
    },
    {
      "cell_type": "markdown",
      "source": [
        "#### **9.Determinar los clusters que lograron la mayor calificación en la preparatoria (HS GPA) y el promedio de la calificación en la Universidad (GPA)**"
      ],
      "metadata": {
        "id": "ZIAHvtzFMXDe"
      }
    },
    {
      "cell_type": "code",
      "source": [
        "np.random.seed(42)  # Para que todos tengamos el mismo modelo\n",
        "\n",
        "#Se procede con la seleccion de las variables de trabajo\n",
        "XD=np.array(XDB.iloc[:,1:6]) #Datos entrada\n",
        "yd=np.array(XDB.iloc[:,6]) #Este es el dato que quiero que el modelo pronostique\n",
        "\n",
        "# Crear el modelo de KMeans\n",
        "mkm = KMeans(n_clusters=5, init='random', random_state=42)\n",
        "mkm.fit(XD,yd)  # Solo usas XD para entrenar\n",
        "labels=mkm.labels_\n",
        "# Características de cada cluster\n",
        "clusters = mkm.cluster_centers_\n",
        "print('Las características de cada cluster son:\\n', clusters)\n",
        "\n",
        "C00=len(np.where((labels==0)&(yd==1))[0])"
      ],
      "metadata": {
        "colab": {
          "base_uri": "https://localhost:8080/"
        },
        "id": "nHrMVFNjq1-m",
        "outputId": "789f5661-27a0-451c-a429-bc280fe9399a"
      },
      "execution_count": null,
      "outputs": [
        {
          "output_type": "stream",
          "name": "stdout",
          "text": [
            "Las características de cada cluster son:\n",
            " [[4.64684015e-01 3.63951673e+00 1.05312268e+03 2.70508550e+00\n",
            "  7.32342007e-01]\n",
            " [6.40794224e-01 3.80368231e+00 1.19072202e+03 2.97076354e+00\n",
            "  6.85920578e-01]\n",
            " [7.72540984e-01 3.96206967e+00 1.44682377e+03 3.16286475e+00\n",
            "  6.59836066e-01]\n",
            " [7.28862974e-01 3.90004373e+00 1.30469388e+03 3.09267201e+00\n",
            "  6.85131195e-01]\n",
            " [6.66666667e-01 2.62666667e+00 2.27373675e-13 2.87900000e+00\n",
            "  6.66666667e-01]]\n"
          ]
        },
        {
          "output_type": "stream",
          "name": "stderr",
          "text": [
            "/usr/local/lib/python3.10/dist-packages/sklearn/cluster/_kmeans.py:1416: FutureWarning: The default value of `n_init` will change from 10 to 'auto' in 1.4. Set the value of `n_init` explicitly to suppress the warning\n",
            "  super()._check_params_vs_input(X, default_n_init=10)\n"
          ]
        }
      ]
    },
    {
      "cell_type": "code",
      "source": [
        "XDB.columns"
      ],
      "metadata": {
        "id": "zXER-m1-Iby_",
        "outputId": "78bd052d-e135-4b12-c5bc-daf6c5b67fd4",
        "colab": {
          "base_uri": "https://localhost:8080/"
        }
      },
      "execution_count": null,
      "outputs": [
        {
          "output_type": "execute_result",
          "data": {
            "text/plain": [
              "Index(['Sex', 'White', 'HS GPA', 'SAT', 'GPA', 'College Parent', 'Grad'], dtype='object')"
            ]
          },
          "metadata": {},
          "execution_count": 64
        }
      ]
    },
    {
      "cell_type": "code",
      "source": [
        "# Para el cluster 0\n",
        "print(f'El HS GPA medio del cluster 0 es: {XD[mkm.labels_ == 0][: , 1].mean()}')\n",
        "print(f'El GPA medio del cluster 0 es: {XD[mkm.labels_ == 0][: , 3].mean()}')\n",
        "print('--------------------------------------------------------------------')\n",
        "\n",
        "# Para el cluster 1\n",
        "print(f'El HS GPA medio del cluster 1 es: {XD[mkm.labels_ == 1][: , 1].mean()}')\n",
        "print(f'El GPA medio del cluster 1 es: {XD[mkm.labels_ == 1][: , 3].mean()}')\n",
        "print('--------------------------------------------------------------------')\n",
        "\n",
        "# Para el cluster 2\n",
        "print(f'El HS GPA medio del cluster 2 es: {XD[mkm.labels_ == 2][: , 1].mean()}')\n",
        "print(f'El GPA medio del cluster 2 es: {XD[mkm.labels_ == 2][: , 3].mean()}')\n",
        "print('--------------------------------------------------------------------')\n",
        "\n",
        "# Para el cluster 3\n",
        "print(f'El HS GPA medio del cluster 3 es: {XD[mkm.labels_ == 3][: , 1].mean()}')\n",
        "print(f'El GPA medio del cluster 3 es: {XD[mkm.labels_ == 3][: , 3].mean()}')\n",
        "print('--------------------------------------------------------------------')\n",
        "\n",
        "# Para el cluster 4\n",
        "print(f'El HS GPA medio del cluster 4 es: {XD[mkm.labels_ == 4][: , 1].mean()}')\n",
        "print(f'El GPA medio del cluster 4 es: {XD[mkm.labels_ == 4][: , 3].mean()}')\n",
        "print('--------------------------------------------------------------------')"
      ],
      "metadata": {
        "colab": {
          "base_uri": "https://localhost:8080/"
        },
        "id": "dTl0J995rcEt",
        "outputId": "b9dbd14f-f5f5-4e89-8fc3-6997d090eb61"
      },
      "execution_count": null,
      "outputs": [
        {
          "output_type": "stream",
          "name": "stdout",
          "text": [
            "El HS GPA medio del cluster 0 es: 3.6395167286245353\n",
            "El GPA medio del cluster 0 es: 2.705085501858736\n",
            "--------------------------------------------------------------------\n",
            "El HS GPA medio del cluster 1 es: 3.8036823104693136\n",
            "El GPA medio del cluster 1 es: 2.970763537906137\n",
            "--------------------------------------------------------------------\n",
            "El HS GPA medio del cluster 2 es: 3.9620696721311477\n",
            "El GPA medio del cluster 2 es: 3.162864754098361\n",
            "--------------------------------------------------------------------\n",
            "El HS GPA medio del cluster 3 es: 3.900043731778426\n",
            "El GPA medio del cluster 3 es: 3.0926720116618074\n",
            "--------------------------------------------------------------------\n",
            "El HS GPA medio del cluster 4 es: 2.6266666666666665\n",
            "El GPA medio del cluster 4 es: 2.879\n",
            "--------------------------------------------------------------------\n"
          ]
        }
      ]
    },
    {
      "cell_type": "markdown",
      "source": [
        "##### **Respuesta**"
      ],
      "metadata": {
        "id": "hqlX85CgNKUx"
      }
    },
    {
      "cell_type": "markdown",
      "source": [
        "El cluster que logró la mayor calificación tanto para la variable 'HS GPA' como para 'GPA' fue el cluster 2, con los siguientes valores:\n",
        "\n",
        "- El HS GPA medio del cluster 2 es: 3.9621\n",
        "\n",
        "- El GPA medio del cluster 2 es: 3.1629"
      ],
      "metadata": {
        "id": "OxJ2scKsMuiT"
      }
    },
    {
      "cell_type": "markdown",
      "source": [
        "#### **10.Compara el coeficiente de Exactitud, Sensibilidad y Especificidad alcanzado por este modelo y comparar su desempeño con los demás modelos.**"
      ],
      "metadata": {
        "id": "mhhI2NlcO4nz"
      }
    },
    {
      "cell_type": "markdown",
      "source": [
        "#### Ajustar un modelo KNN"
      ],
      "metadata": {
        "id": "WWW4l0tis8su"
      }
    },
    {
      "cell_type": "code",
      "source": [
        "mknn=KNeighborsClassifier(n_neighbors=10) #Tomar 10 vecinos\n",
        "mknn.fit(XD,yd) #Se ajusta el modelo\n",
        "\n",
        "#Evaluamos el funcionamiento del modelo\n",
        "ydp=mknn.predict(XD)\n",
        "\n",
        "#Matriz de confusion\n",
        "from sklearn.metrics import confusion_matrix\n",
        "cm=confusion_matrix(yd,ydp)\n",
        "print('Esta es la matriz de confusion:\\n',cm)\n",
        "\n",
        "VN=cm[0,0];FP=cm[0,1];FN=cm[1,0];VP=cm[1,1]\n",
        "Exac=(VP+VN)/(VP+VN+FP+FN)\n",
        "Sen=VP/(VP+FN)\n",
        "Spec=VN/(VN+FP)\n",
        "print('Exactitud:',Exac)\n",
        "print('Sensibilidad:',Sen)\n",
        "print('Especificidad:',Spec)"
      ],
      "metadata": {
        "colab": {
          "base_uri": "https://localhost:8080/"
        },
        "id": "M1FhuPgpnrUG",
        "outputId": "24f21f40-6115-4b7d-964b-5676e7c9b4a4"
      },
      "execution_count": null,
      "outputs": [
        {
          "output_type": "stream",
          "name": "stdout",
          "text": [
            "Esta es la matriz de confusion:\n",
            " [[ 386  230]\n",
            " [  69 1315]]\n",
            "Exactitud: 0.8505\n",
            "Sensibilidad: 0.9501445086705202\n",
            "Especificidad: 0.6266233766233766\n"
          ]
        }
      ]
    },
    {
      "cell_type": "code",
      "source": [
        "# Predecir nuevo punto\n",
        "XDP = np.array([[ 1, 4, 1260, 1.9, 1]])\n",
        "ydpp2 = mknn.predict(XDP)\n",
        "print('Cluster:', ydpp2)"
      ],
      "metadata": {
        "colab": {
          "base_uri": "https://localhost:8080/"
        },
        "outputId": "e1101aa8-98a1-4dbb-a7b5-4a61c01137d6",
        "id": "UDUyPYFPualD"
      },
      "execution_count": null,
      "outputs": [
        {
          "output_type": "stream",
          "name": "stdout",
          "text": [
            "Cluster: [0]\n"
          ]
        }
      ]
    },
    {
      "cell_type": "code",
      "source": [
        "# Predecir nuevo punto\n",
        "XDP = np.array([[ 1, 2.91, 1090, 2.719, 1]])\n",
        "ydpp2 = mknn.predict(XDP)\n",
        "print('Cluster:', ydpp2)"
      ],
      "metadata": {
        "colab": {
          "base_uri": "https://localhost:8080/"
        },
        "outputId": "e49c4770-0c27-431e-fc97-ac8363e5c7ca",
        "id": "xWhUUAy0ualE"
      },
      "execution_count": null,
      "outputs": [
        {
          "output_type": "stream",
          "name": "stdout",
          "text": [
            "Cluster: [0]\n"
          ]
        }
      ]
    },
    {
      "cell_type": "code",
      "source": [
        "# Predecir nuevo punto\n",
        "XDP = np.array([[ 0, 3.58, 1210, 3.319, 1]])\n",
        "ydpp2 = mknn.predict(XDP)\n",
        "print('Cluster:', ydpp2)"
      ],
      "metadata": {
        "colab": {
          "base_uri": "https://localhost:8080/"
        },
        "outputId": "41bb59c6-4ddb-4980-ee82-731ec9467662",
        "id": "nfp3SCJSualF"
      },
      "execution_count": null,
      "outputs": [
        {
          "output_type": "stream",
          "name": "stdout",
          "text": [
            "Cluster: [1]\n"
          ]
        }
      ]
    },
    {
      "cell_type": "markdown",
      "source": [
        "##### **Respuesta**\n",
        "\n",
        "Este modelo obtuvo una exactitud del 85.05%, lo que indica que el modelo tiene un buen rendimiento general. La alta sensibilidad del 95.01% sugiere que el modelo es muy efectivo para identificar correctamente a aquellos estudiantes que sí lograrán su grado en el tiempo previsto, minimizando los falsos negativos. Sin embargo, la especificidad del 62.66% muestra que el modelo tiene una menor capacidad para identificar a aquellos que no alcanzarán el grado en el plazo establecido, resultando en una mayor cantidad de falsos positivos. En resumen, el modelo es más confiable en predecir a quienes alcanzarán el grado, pero podría mejorar en la identificación precisa de quienes no lo lograrán.\n",
        "\n",
        "Comparandolo con los otros modelos, este modelo, con una exactitud del 85.05%, es menos preciso que el árbol de decisión (90.2%) y el Naive Bayes (86.7%). Aunque este tiene una alta sensibilidad del 95.01%, superior a la del Naive Bayes (92,63%) y menor que la del árbol de decisión (99.86%), su especificidad es más baja (62.66%) en comparación con el Naive Bayes (73,37%) y el árbol de decisión (68.51%). Esto sugiere que, aunque este modelo es muy efectivo en identificar correctamente a los estudiantes que completarán su grado, tiene más dificultades para clasificar a quienes no lo lograrán en comparación con los otros dos modelos. El árbol de decisión es extremadamente bueno para detectar casos positivos pero tiene una precisión más baja en los negativos, mientras que Naive Bayes ofrece un mejor equilibrio entre la identificación de ambos tipos de casos, superando a este modelo en términos de especificidad y siendo más equilibrado en la clasificación general."
      ],
      "metadata": {
        "id": "DTQKk8rrPOEj"
      }
    },
    {
      "cell_type": "markdown",
      "source": [
        "#### **11.Cuál es el clúster que posee la mayor cantidad de personas que van a graduarse e indicar el porcentaje de graduación.**"
      ],
      "metadata": {
        "id": "Wn8LQxvUPZwH"
      }
    },
    {
      "cell_type": "code",
      "source": [
        "# Número de individuos totales por cluster\n",
        "print(f\"Cluster 0: {len(np.where(mkm.labels_ == 0)[0])} individuos\")\n",
        "print(f\"Cluster 1: {len(np.where(mkm.labels_ == 1)[0])} individuos\")\n",
        "print(f\"Cluster 2: {len(np.where(mkm.labels_ == 2)[0])} individuos\")\n",
        "print(f\"Cluster 3: {len(np.where(mkm.labels_ == 3)[0])} individuos\")\n",
        "print(f\"Cluster 4: {len(np.where(mkm.labels_ == 4)[0])} individuos\")"
      ],
      "metadata": {
        "colab": {
          "base_uri": "https://localhost:8080/"
        },
        "id": "6oqz_SXIrSPs",
        "outputId": "d4efaa02-f6e4-43ed-987c-76421186cbd2"
      },
      "execution_count": null,
      "outputs": [
        {
          "output_type": "stream",
          "name": "stdout",
          "text": [
            "Cluster 0: 269 individuos\n",
            "Cluster 1: 554 individuos\n",
            "Cluster 2: 488 individuos\n",
            "Cluster 3: 686 individuos\n",
            "Cluster 4: 3 individuos\n"
          ]
        }
      ]
    },
    {
      "cell_type": "code",
      "source": [
        "# Número de individuos que SI van a graduarse por cluster\n",
        "labels=np.array(mkm.labels_).reshape(2000,1)\n",
        "\n",
        "len(np.where((labels==0) & (yd==1))[0])\n",
        "\n",
        "\n",
        "print(f\"Cluster 0: {len(np.where((labels == 0) & (yd == 1))[0])} individuos\")\n",
        "print(f\"Cluster 1: {len(np.where((labels== 1) & (yd == 1))[0])} individuos\")\n",
        "print(f\"Cluster 2: {len(np.where((labels== 2) & (yd == 1))[0])} individuos\")\n",
        "print(f\"Cluster 3: {len(np.where((labels== 3) & (yd == 1))[0])} individuos\")\n",
        "print(f\"Cluster 4: {len(np.where((labels==4) & (yd == 1))[0])} individuos\")"
      ],
      "metadata": {
        "colab": {
          "base_uri": "https://localhost:8080/"
        },
        "id": "X4gvNZcWrT_E",
        "outputId": "632b4fa1-d765-488f-ea11-22bcbc7be6fb"
      },
      "execution_count": null,
      "outputs": [
        {
          "output_type": "stream",
          "name": "stdout",
          "text": [
            "Cluster 0: 131 individuos\n",
            "Cluster 1: 371 individuos\n",
            "Cluster 2: 370 individuos\n",
            "Cluster 3: 510 individuos\n",
            "Cluster 4: 2 individuos\n"
          ]
        }
      ]
    },
    {
      "cell_type": "code",
      "source": [
        "# Porcentajes en el cluster 0\n",
        "c00 = len(np.where((mkm.labels_ == 0) & (yd == 0))[0])\n",
        "c01 = len(np.where((mkm.labels_ == 0) & (yd == 1))[0])\n",
        "print('El porcentaje de NO graduados para el cluster 0 es:', c00 / (c00 + c01))\n",
        "print('El porcentaje de SI graduados para el cluster 0 es:', c01 / (c00 + c01))\n",
        "print('--------------------------------------------------------------------')\n",
        "\n",
        "# Porcentajes en el cluster 1\n",
        "c10 = len(np.where((mkm.labels_ == 1) & (yd == 0))[0])\n",
        "c11 = len(np.where((mkm.labels_ == 1) & (yd == 1))[0])\n",
        "print('El porcentaje de NO graduados para el cluster 1 es:', c10 / (c10 + c11))\n",
        "print('El porcentaje de SI graduados para el cluster 1 es:', c11 / (c10 + c11))\n",
        "print('--------------------------------------------------------------------')\n",
        "\n",
        "# Porcentajes en el cluster 2\n",
        "c20 = len(np.where((mkm.labels_ == 2) & (yd == 0))[0])\n",
        "c21 = len(np.where((mkm.labels_ == 2) & (yd == 1))[0])\n",
        "print('El porcentaje de NO graduados para el cluster 2 es:', c20 / (c20 + c21))\n",
        "print('El porcentaje de SI graduados para el cluster 2 es:', c21 / (c20 + c21))\n",
        "print('--------------------------------------------------------------------')\n",
        "\n",
        "# Porcentajes en el cluster 3\n",
        "c30 = len(np.where((mkm.labels_ == 3) & (yd == 0))[0])\n",
        "c31 = len(np.where((mkm.labels_ == 3) & (yd == 1))[0])\n",
        "print('El porcentaje de NO graduados para el cluster 3 es:', c30 / (c30 + c31))\n",
        "print('El porcentaje de SI graduados para el cluster 3 es:', c31 / (c30 + c31))\n",
        "print('--------------------------------------------------------------------')\n",
        "\n",
        "# Porcentajes en el cluster 4\n",
        "c40 = len(np.where((mkm.labels_ == 4) & (yd == 0))[0])\n",
        "c41 = len(np.where((mkm.labels_ == 4) & (yd == 1))[0])\n",
        "print('El porcentaje de NO graduados para el cluster 4 es:', c40 / (c40 + c41))\n",
        "print('El porcentaje de SI graduados para el cluster 4 es:', c41 / (c40 + c41))\n",
        "print('--------------------------------------------------------------------')"
      ],
      "metadata": {
        "colab": {
          "base_uri": "https://localhost:8080/"
        },
        "id": "IRmcv5ON13Sf",
        "outputId": "9582c511-3822-4566-9e86-cc6d88a18a32"
      },
      "execution_count": null,
      "outputs": [
        {
          "output_type": "stream",
          "name": "stdout",
          "text": [
            "El porcentaje de NO graduados para el cluster 0 es: 0.308\n",
            "El porcentaje de SI graduados para el cluster 0 es: 0.692\n",
            "--------------------------------------------------------------------\n",
            "El porcentaje de NO graduados para el cluster 1 es: 0.308\n",
            "El porcentaje de SI graduados para el cluster 1 es: 0.692\n",
            "--------------------------------------------------------------------\n",
            "El porcentaje de NO graduados para el cluster 2 es: 0.308\n",
            "El porcentaje de SI graduados para el cluster 2 es: 0.692\n",
            "--------------------------------------------------------------------\n",
            "El porcentaje de NO graduados para el cluster 3 es: 0.308\n",
            "El porcentaje de SI graduados para el cluster 3 es: 0.692\n",
            "--------------------------------------------------------------------\n",
            "El porcentaje de NO graduados para el cluster 4 es: 0.308\n",
            "El porcentaje de SI graduados para el cluster 4 es: 0.692\n",
            "--------------------------------------------------------------------\n"
          ]
        }
      ]
    },
    {
      "cell_type": "markdown",
      "source": [
        "##### **Respuesta**"
      ],
      "metadata": {
        "id": "AuXXBLPCPulE"
      }
    },
    {
      "cell_type": "markdown",
      "source": [
        "El cluster con mayor cantidad de personas que van a graduarse es el numero **3**.\n",
        "\n",
        "El porcentaje de graduación del cluster 3 es de **74.3440%**"
      ],
      "metadata": {
        "id": "_kDKgI0JPy-y"
      }
    },
    {
      "cell_type": "markdown",
      "source": [
        "#### **12.Determinar el clúster al que pertenecen cada uno de los estudiantes que hacen parte de la hoja de pronóstico.**"
      ],
      "metadata": {
        "id": "Gi4EO-DvQQ-Y"
      }
    },
    {
      "cell_type": "code",
      "source": [
        "# Predecir nuevo punto\n",
        "XDP = np.array([[1, 4, 1260, 1.9, 1]])\n",
        "ydpp2 = mkm.predict(XDP)\n",
        "print('Cluster:', ydpp2)"
      ],
      "metadata": {
        "colab": {
          "base_uri": "https://localhost:8080/"
        },
        "id": "6CIUlFTytmHw",
        "outputId": "3d69ba52-11c5-4d10-f34f-873851de1f06"
      },
      "execution_count": null,
      "outputs": [
        {
          "output_type": "stream",
          "name": "stdout",
          "text": [
            "Cluster: [3]\n"
          ]
        }
      ]
    },
    {
      "cell_type": "code",
      "source": [
        "# Predecir nuevo punto\n",
        "XDP = np.array([[1, 2.91, 1090, 2.719, 1]])\n",
        "ydpp2 = mkm.predict(XDP)\n",
        "print('Cluster:', ydpp2)"
      ],
      "metadata": {
        "colab": {
          "base_uri": "https://localhost:8080/"
        },
        "id": "Gvl6jjdjuKom",
        "outputId": "036624a3-d27a-4412-f57b-f878dfe1aa06"
      },
      "execution_count": null,
      "outputs": [
        {
          "output_type": "stream",
          "name": "stdout",
          "text": [
            "Cluster: [0]\n"
          ]
        }
      ]
    },
    {
      "cell_type": "code",
      "source": [
        "# Predecir nuevo punto\n",
        "XDP = np.array([[0, 3.58, 1210, 3.319, 1]])\n",
        "ydpp2 = mkm.predict(XDP)\n",
        "print('Cluster:', ydpp2)"
      ],
      "metadata": {
        "colab": {
          "base_uri": "https://localhost:8080/"
        },
        "id": "y3BKqPyeuLDz",
        "outputId": "97cbdc60-2c73-4f25-aee4-3e2dbef7a2bc"
      },
      "execution_count": null,
      "outputs": [
        {
          "output_type": "stream",
          "name": "stdout",
          "text": [
            "Cluster: [1]\n"
          ]
        }
      ]
    },
    {
      "cell_type": "markdown",
      "source": [
        "##### **Respuesta**"
      ],
      "metadata": {
        "id": "voLgI0oGQYLj"
      }
    },
    {
      "cell_type": "markdown",
      "source": [
        "Persona 1: cluster 3\n",
        "\n",
        "Persona 2: cluster 0\n",
        "\n",
        "Persona 3: cluster 1"
      ],
      "metadata": {
        "id": "6UhG17rEQfUg"
      }
    },
    {
      "cell_type": "code",
      "source": [
        "# Para el cluster 1\n",
        "print(f'El GPA media del cluster 0 es: {XD[mkm.labels_ == 0][: , 1].mean()}')\n",
        "print(f'El HS GPA medio del cluster 0 es: {XD[mkm.labels_ == 0][: , 3].mean()}')\n",
        "print('--------------------------------------------------------------------')\n",
        "\n",
        "# Para el cluster 2\n",
        "print(f'El GPA media del cluster 1 es: {XD[mkm.labels_ == 1][: , 1].mean()}')\n",
        "print(f'El HS GPA medio del cluster 1 es: {XD[mkm.labels_ == 1][: , 3].mean()}')\n",
        "print('--------------------------------------------------------------------')\n",
        "\n",
        "# Para el cluster 3\n",
        "print(f'El GPA media del cluster 2 es: {XD[mkm.labels_ == 2][: , 1].mean()}')\n",
        "print(f'El HS GPA medio del cluster 2 es: {XD[mkm.labels_ == 2][: , 3].mean()}')\n",
        "print('--------------------------------------------------------------------')\n",
        "\n",
        "# Para el cluster 4\n",
        "print(f'El GPA media del cluster 3 es: {XD[mkm.labels_ == 3][: , 1].mean()}')\n",
        "print(f'El HS GPA medio del cluster 3 es: {XD[mkm.labels_ == 3][: , 3].mean()}')\n",
        "print('--------------------------------------------------------------------')\n",
        "\n",
        "# Para el cluster 5\n",
        "print(f'El GPA media del cluster 4 es: {XD[mkm.labels_ == 4][: , 1].mean()}')\n",
        "print(f'El HS GPA medio del cluster 4 es: {XD[mkm.labels_ == 4][: , 3].mean()}')\n",
        "print('--------------------------------------------------------------------')"
      ],
      "metadata": {
        "colab": {
          "base_uri": "https://localhost:8080/"
        },
        "id": "c0jNvF-6PeJT",
        "outputId": "c85d8688-8783-4bff-e930-016471684be3"
      },
      "execution_count": null,
      "outputs": [
        {
          "output_type": "stream",
          "name": "stdout",
          "text": [
            "El GPA media del cluster 0 es: 3.6395167286245353\n",
            "El HS GPA medio del cluster 0 es: 2.705085501858736\n",
            "--------------------------------------------------------------------\n",
            "El GPA media del cluster 1 es: 3.8036823104693136\n",
            "El HS GPA medio del cluster 1 es: 2.970763537906137\n",
            "--------------------------------------------------------------------\n",
            "El GPA media del cluster 2 es: 3.9620696721311477\n",
            "El HS GPA medio del cluster 2 es: 3.162864754098361\n",
            "--------------------------------------------------------------------\n",
            "El GPA media del cluster 3 es: 3.900043731778426\n",
            "El HS GPA medio del cluster 3 es: 3.0926720116618074\n",
            "--------------------------------------------------------------------\n",
            "El GPA media del cluster 4 es: 2.6266666666666665\n",
            "El HS GPA medio del cluster 4 es: 2.879\n",
            "--------------------------------------------------------------------\n"
          ]
        }
      ]
    }
  ]
}